# Display the output
print("New Jupyter Notebook file")
